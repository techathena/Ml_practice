{
 "cells": [
  {
   "cell_type": "code",
   "execution_count": 4,
   "id": "4470b043-aac3-4c17-9bb0-73d5b29ef9db",
   "metadata": {},
   "outputs": [
    {
     "name": "stdin",
     "output_type": "stream",
     "text": [
      "Whats your name \n",
      " athena\n",
      "How old are you? \n",
      " 10\n"
     ]
    },
    {
     "name": "stdout",
     "output_type": "stream",
     "text": [
      "Hey athena! You are 10 years old. Thats awesome! You will turn 100 years old in 2111.\n"
     ]
    }
   ],
   "source": [
    "## QUESTION 1\n",
    "from datetime import *\n",
    "name = input('Whats your name \\n')\n",
    "age = int(input('How old are you? \\n'))\n",
    "year = int((100-age) + datetime.now().year)\n",
    "print ('Hey %s! You are %s years old. Thats awesome! You will turn 100 years old in %s.' % (name, age, year))"
   ]
  },
  {
   "cell_type": "code",
   "execution_count": 2,
   "id": "c215856f-402f-4900-874a-2c7b6d7caddd",
   "metadata": {},
   "outputs": [
    {
     "name": "stdout",
     "output_type": "stream",
     "text": [
      "1\n",
      "1\n",
      "2\n",
      "3\n",
      "New List is [1, 1, 2, 3]\n",
      "New List in one line is[1, 1, 2, 3]\n"
     ]
    },
    {
     "name": "stdin",
     "output_type": "stream",
     "text": [
      "Enter the number to find elements smaller than the number 4\n"
     ]
    },
    {
     "name": "stdout",
     "output_type": "stream",
     "text": [
      "Elements smaller than4 are [1, 1, 2, 3]\n"
     ]
    }
   ],
   "source": [
    "## QUESTION 2\n",
    "def printele(lst):\n",
    "  # Printing Elements Less than 5\n",
    "  new_lst = []\n",
    "  for i in lst:\n",
    "    if i<5: \n",
    "      print(i)\n",
    "      ##1. Appending in List\n",
    "      new_lst.append(i)\n",
    "  print(\"New List is {}\".format(new_lst))\n",
    "\n",
    "  ##2. Appending in one line\n",
    "  new_lst2 = [x for x in lst if x<5]\n",
    "  print(\"New List in one line is{}\".format(new_lst2))\n",
    "\n",
    "  ##3. Asking user and responding accordingly\n",
    "  number = int(input(\"Enter the number to find elements smaller than the number\"))\n",
    "  new_lst3 = [x for x in lst if x<number]\n",
    "  print(\"Elements smaller than{} are {}\".format(number, new_lst3))\n",
    "\n",
    "\n",
    "\n",
    "a = [1, 1, 2, 3, 5, 8, 13, 21, 34, 55, 89]\n",
    "\n",
    "printele(a)"
   ]
  },
  {
   "cell_type": "code",
   "execution_count": 4,
   "id": "fc4d86bd-db99-44d9-bb30-38d58d83e12e",
   "metadata": {},
   "outputs": [
    {
     "name": "stdin",
     "output_type": "stream",
     "text": [
      "Enter the number of numbers for seq. 3\n"
     ]
    },
    {
     "name": "stdout",
     "output_type": "stream",
     "text": [
      "Fibonacci sequence:\n",
      "0\n",
      "1\n",
      "1\n"
     ]
    }
   ],
   "source": [
    "## QUESTION 3\n",
    "def fibo(n):\n",
    "   if n <= 1:\n",
    "       return n\n",
    "   else:\n",
    "       return(fibo(n-1) + fibo(n-2))\n",
    "\n",
    "nterms = int(input(\"Enter the number of numbers for seq.\"))\n",
    "print(\"Fibonacci sequence:\")\n",
    "for i in range(nterms):\n",
    "  print(fibo(i))"
   ]
  },
  {
   "cell_type": "code",
   "execution_count": 5,
   "id": "53edaaf1-f973-41b3-a8ad-76d72ecaa746",
   "metadata": {},
   "outputs": [
    {
     "name": "stdout",
     "output_type": "stream",
     "text": [
      "Without Sets usage\n",
      "1\n",
      "2\n",
      "3\n",
      "5\n",
      "8\n",
      "13\n",
      "21\n",
      "34\n",
      "55\n",
      "89\n"
     ]
    }
   ],
   "source": [
    "## QUESTION 4\n",
    "def lst_unique(lst):\n",
    "  unique = []\n",
    "  for l in lst:\n",
    "    if l not in unique:\n",
    "      unique.append(l)\n",
    "  for x in unique:\n",
    "    print(x)\n",
    "\n",
    "def using_set(lst):\n",
    "  list_set = set(lst)\n",
    "  unique_list = list(list_set)\n",
    "  for x in unique_list:\n",
    "    print(x)\n",
    "\n",
    "a = [1, 1, 2, 3, 5, 8, 13, 21, 34, 55, 89, 21, 89]\n",
    "print(\"Without Sets usage\")\n",
    "lst_unique(a)"
   ]
  },
  {
   "cell_type": "code",
   "execution_count": 6,
   "id": "6804bfbf-b3f0-4557-a2b3-8448216e3bf6",
   "metadata": {},
   "outputs": [
    {
     "name": "stdin",
     "output_type": "stream",
     "text": [
      "Enter Number you want to check \t 77\n"
     ]
    },
    {
     "name": "stdout",
     "output_type": "stream",
     "text": [
      "Number is not Prime\n"
     ]
    }
   ],
   "source": [
    "## QUESTION 5\n",
    "def check_prime():\n",
    "  num = int(input(\"Enter Number you want to check \\t\"))\n",
    "  flag = 1\n",
    "  for i in range(2, int(num/2)):\n",
    "    if(num%i == 0):\n",
    "      flag = 0\n",
    "      break\n",
    "  if(flag==0):\n",
    "    print(\"Number is not Prime\")\n",
    "  else:\n",
    "    print(\"Number is Prime\")\n",
    "\n",
    "check_prime()"
   ]
  },
  {
   "cell_type": "code",
   "execution_count": null,
   "id": "0531400e-59c9-4f3c-a1f7-2c7be47da8f6",
   "metadata": {},
   "outputs": [],
   "source": []
  },
  {
   "cell_type": "code",
   "execution_count": null,
   "id": "7f02ceed-4762-4edf-9b02-34d0e954480a",
   "metadata": {},
   "outputs": [],
   "source": []
  },
  {
   "cell_type": "code",
   "execution_count": null,
   "id": "71195bfa-0c56-4257-9972-435ceeb0be48",
   "metadata": {},
   "outputs": [],
   "source": []
  }
 ],
 "metadata": {
  "kernelspec": {
   "display_name": "Python 3",
   "language": "python",
   "name": "python3"
  },
  "language_info": {
   "codemirror_mode": {
    "name": "ipython",
    "version": 3
   },
   "file_extension": ".py",
   "mimetype": "text/x-python",
   "name": "python",
   "nbconvert_exporter": "python",
   "pygments_lexer": "ipython3",
   "version": "3.7.3"
  }
 },
 "nbformat": 4,
 "nbformat_minor": 5
}
